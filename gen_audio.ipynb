{
 "cells": [
  {
   "cell_type": "code",
   "execution_count": null,
   "metadata": {
    "collapsed": true
   },
   "outputs": [],
   "source": [
    "import librosa\n",
    "import os\n",
    "import numpy as np"
   ]
  },
  {
   "cell_type": "code",
   "execution_count": null,
   "metadata": {
    "collapsed": true
   },
   "outputs": [],
   "source": [
    "#Enter the name of npy file which will be generated as output from DiscoGAN code\n",
    "AUDIO_NPY = 'spectro_piano.npy'\n",
    "#Enter the index of audio you want to generate\n",
    "AUDIO_INDEX = 0\n",
    "#Name of the finally generated audio file\n",
    "AUDIO_OUTPUT = 'piano.mp3'\n",
    "audio_files = np.load(AUDIO_NPY)"
   ]
  },
  {
   "cell_type": "code",
   "execution_count": null,
   "metadata": {
    "collapsed": true
   },
   "outputs": [],
   "source": [
    "gen_audio = audio_files[AUDIO_INDEX]\n",
    "gen_audio = np.reshape(gen_audio,newshape=(1024,256))"
   ]
  },
  {
   "cell_type": "code",
   "execution_count": null,
   "metadata": {
    "collapsed": true
   },
   "outputs": [],
   "source": [
    "req_audio = np.zeros([1025, gen_audio.shape[1]])\n",
    "req_audio[:gen_audio.shape[0]] = gen_audio"
   ]
  },
  {
   "cell_type": "code",
   "execution_count": null,
   "metadata": {
    "collapsed": true
   },
   "outputs": [],
   "source": [
    "#this function has been taken from DmitryUlyanov/neural-style-audio-torch\n",
    "#link is https://github.com/DmitryUlyanov/neural-style-audio-torch/blob/master/invert_spectrogram.py\n",
    "def phase_restore(mag, random_phases, N):\n",
    "    p = np.exp(1j * (random_phases))\n",
    "\n",
    "    for i in range(N):\n",
    "        _, p = librosa.magphase(librosa.stft(\n",
    "            librosa.istft(mag * p), n_fft=2048))\n",
    "    return p"
   ]
  },
  {
   "cell_type": "code",
   "execution_count": null,
   "metadata": {
    "collapsed": true
   },
   "outputs": [],
   "source": [
    "random_phase = req_audio.copy()\n",
    "np.random.shuffle(random_phase)\n",
    "p = phase_restore((np.exp(req_audio) - 1), random_phase, N=100)\n",
    "y = librosa.istft((np.exp(req_audio) - 1) * p)\n",
    "librosa.output.write_wav(AUDIO_OUTPUT, y, 22050, norm=False)"
   ]
  },
  {
   "cell_type": "code",
   "execution_count": null,
   "metadata": {
    "collapsed": true
   },
   "outputs": [],
   "source": []
  }
 ],
 "metadata": {
  "kernelspec": {
   "display_name": "Python 3",
   "language": "python",
   "name": "python3"
  },
  "language_info": {
   "codemirror_mode": {
    "name": "ipython",
    "version": 3
   },
   "file_extension": ".py",
   "mimetype": "text/x-python",
   "name": "python",
   "nbconvert_exporter": "python",
   "pygments_lexer": "ipython3",
   "version": "3.6.3"
  }
 },
 "nbformat": 4,
 "nbformat_minor": 2
}
